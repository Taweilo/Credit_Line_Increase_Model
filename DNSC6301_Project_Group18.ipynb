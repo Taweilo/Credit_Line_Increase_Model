{
  "nbformat": 4,
  "nbformat_minor": 0,
  "metadata": {
    "colab": {
      "name": "DNSC6301_Project_Group18.ipynb",
      "provenance": [],
      "collapsed_sections": [],
      "authorship_tag": "ABX9TyNlX8dxDcukIAggODgbYcDB",
      "include_colab_link": true
    },
    "kernelspec": {
      "name": "python3",
      "display_name": "Python 3"
    },
    "language_info": {
      "name": "python"
    }
  },
  "cells": [
    {
      "cell_type": "markdown",
      "metadata": {
        "id": "view-in-github",
        "colab_type": "text"
      },
      "source": [
        "<a href=\"https://colab.research.google.com/github/katamvarsha/GWU_DNSC6301_Project_Group18/blob/main/DNSC6301_Project_Group18.ipynb\" target=\"_parent\"><img src=\"https://colab.research.google.com/assets/colab-badge.svg\" alt=\"Open In Colab\"/></a>"
      ]
    },
    {
      "cell_type": "markdown",
      "source": [
        "MIT License\n",
        "\n",
        "Copyright (c) 2022 katamvarsha\n",
        "\n",
        "Permission is hereby granted, free of charge, to any person obtaining a copy\n",
        "of this software and associated documentation files (the \"Software\"), to deal\n",
        "in the Software without restriction, including without limitation the rights\n",
        "to use, copy, modify, merge, publish, distribute, sublicense, and/or sell\n",
        "copies of the Software, and to permit persons to whom the Software is\n",
        "furnished to do so, subject to the following conditions:\n",
        "\n",
        "The above copyright notice and this permission notice shall be included in all\n",
        "copies or substantial portions of the Software.\n",
        "\n",
        "THE SOFTWARE IS PROVIDED \"AS IS\", WITHOUT WARRANTY OF ANY KIND, EXPRESS OR\n",
        "IMPLIED, INCLUDING BUT NOT LIMITED TO THE WARRANTIES OF MERCHANTABILITY,\n",
        "FITNESS FOR A PARTICULAR PURPOSE AND NONINFRINGEMENT. IN NO EVENT SHALL THE\n",
        "AUTHORS OR COPYRIGHT HOLDERS BE LIABLE FOR ANY CLAIM, DAMAGES OR OTHER\n",
        "LIABILITY, WHETHER IN AN ACTION OF CONTRACT, TORT OR OTHERWISE, ARISING FROM,\n",
        "OUT OF OR IN CONNECTION WITH THE SOFTWARE OR THE USE OR OTHER DEALINGS IN THE\n",
        "SOFTWARE."
      ],
      "metadata": {
        "id": "EIyULVxYxXpR"
      }
    },
    {
      "cell_type": "markdown",
      "source": [
        "**Python Imports**"
      ],
      "metadata": {
        "id": "mHgd026UyMPs"
      }
    },
    {
      "cell_type": "code",
      "source": [
        "from sklearn import tree                                  # sklearn tree model for decision trees\n",
        "from sklearn.model_selection import train_test_split      # for partitioning data\n",
        "from sklearn.model_selection import cross_val_score       # for cross validation\n",
        "from sklearn.metrics import roc_auc_score, accuracy_score # to assess decision tree perforamce\n",
        "\n",
        "# to upload local files\n",
        "import io\n",
        "from google.colab import files             \n",
        "\n",
        "import numpy as np                                   # array, vector, matrix calculations\n",
        "import pandas as pd                                  # dataFrame handling\n",
        "\n",
        "from matplotlib import pyplot as plt                 # plotting\n",
        "import seaborn as sns                                # slightly better plotting  \n",
        "\n",
        "SEED = 12345                                         # ALWAYS use a random seed for better reproducibility"
      ],
      "metadata": {
        "id": "CkbLztQvyXxb"
      },
      "execution_count": 1,
      "outputs": []
    },
    {
      "cell_type": "code",
      "source": [
        "# print version information \n",
        "import sys\n",
        "import sklearn\n",
        "version = \".\".join(map(str, sys.version_info[:3]))\n",
        "print('Python version:', version)\n",
        "print('sklearn version:', sklearn.__version__)"
      ],
      "metadata": {
        "colab": {
          "base_uri": "https://localhost:8080/"
        },
        "id": "NqlpGmNfysb3",
        "outputId": "0815ddc2-bc3e-4226-f31b-688804a9029d"
      },
      "execution_count": 2,
      "outputs": [
        {
          "output_type": "stream",
          "name": "stdout",
          "text": [
            "Python version: 3.7.13\n",
            "sklearn version: 1.0.2\n"
          ]
        }
      ]
    },
    {
      "cell_type": "markdown",
      "source": [
        "# 1. Load and analyze data"
      ],
      "metadata": {
        "id": "u8l1YoxQyydl"
      }
    },
    {
      "cell_type": "code",
      "source": [
        ""
      ],
      "metadata": {
        "id": "oQVaBeXvy8zM"
      },
      "execution_count": null,
      "outputs": []
    }
  ]
}