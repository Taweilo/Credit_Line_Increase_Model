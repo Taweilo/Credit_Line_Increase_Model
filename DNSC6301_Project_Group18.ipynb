{
  "nbformat": 4,
  "nbformat_minor": 0,
  "metadata": {
    "colab": {
      "name": "DNSC6301_Project_Group18.ipynb",
      "provenance": [],
      "authorship_tag": "ABX9TyNm1HKaTs7PAouVA5egB7T9",
      "include_colab_link": true
    },
    "kernelspec": {
      "name": "python3",
      "display_name": "Python 3"
    },
    "language_info": {
      "name": "python"
    }
  },
  "cells": [
    {
      "cell_type": "markdown",
      "metadata": {
        "id": "view-in-github",
        "colab_type": "text"
      },
      "source": [
        "<a href=\"https://colab.research.google.com/github/katamvarsha/GWU_DNSC6301_Project_Group18/blob/main/DNSC6301_Project_Group18.ipynb\" target=\"_parent\"><img src=\"https://colab.research.google.com/assets/colab-badge.svg\" alt=\"Open In Colab\"/></a>"
      ]
    },
    {
      "cell_type": "code",
      "execution_count": null,
      "metadata": {
        "id": "34L6Juxhtf5K"
      },
      "outputs": [],
      "source": [
        ""
      ]
    }
  ]
}